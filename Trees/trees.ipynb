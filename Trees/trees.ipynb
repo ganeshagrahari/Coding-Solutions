{
 "cells": [
  {
   "cell_type": "code",
   "execution_count": 1,
   "id": "c68d019a",
   "metadata": {},
   "outputs": [],
   "source": [
    "class node :\n",
    "    def __init__(self,key):\n",
    "        self.key = key\n",
    "        self.left = None\n",
    "        self.right = None\n",
    "        \n"
   ]
  },
  {
   "cell_type": "code",
   "execution_count": null,
   "id": "8f8c1a89",
   "metadata": {},
   "outputs": [],
   "source": [
    "#tree traversals \n",
    "def inorder(root):\n",
    "    if root:\n",
    "        inorder(root.left)\n",
    "        print(root.key, end = ' ')\n",
    "        inorder(root.right)\n",
    "\n",
    "def preorder(root):\n",
    "    if root:\n",
    "        print(root.key, end = ' ')\n",
    "        preorder(root.left)\n",
    "        preorder(root.right)\n",
    "\n",
    "def postorder(root):\n",
    "    if root:\n",
    "        postorder(root.left)\n",
    "        postorder(root.right)\n",
    "        print(root.key, end = ' ')\n",
    "        \n",
    "        "
   ]
  },
  {
   "cell_type": "code",
   "execution_count": 2,
   "id": "62fd7ead",
   "metadata": {},
   "outputs": [],
   "source": [
    "#height of a tree\n",
    "def height(root):\n",
    "    if root is None:\n",
    "        return 0\n",
    "    left_height = height(root.left)\n",
    "    right_height = height(root.right)\n",
    "    return 1+max(left_height, right_height)    "
   ]
  },
  {
   "cell_type": "code",
   "execution_count": null,
   "id": "8865770c",
   "metadata": {},
   "outputs": [],
   "source": []
  }
 ],
 "metadata": {
  "kernelspec": {
   "display_name": "base",
   "language": "python",
   "name": "python3"
  },
  "language_info": {
   "codemirror_mode": {
    "name": "ipython",
    "version": 3
   },
   "file_extension": ".py",
   "mimetype": "text/x-python",
   "name": "python",
   "nbconvert_exporter": "python",
   "pygments_lexer": "ipython3",
   "version": "3.12.7"
  }
 },
 "nbformat": 4,
 "nbformat_minor": 5
}
