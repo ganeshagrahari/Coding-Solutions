{
 "cells": [
  {
   "cell_type": "code",
   "execution_count": 11,
   "id": "0ed6467c",
   "metadata": {},
   "outputs": [],
   "source": [
    "#siglyLinkedlist\n",
    "class SinglyNode:\n",
    "    def __init__(self,val,next=None):\n",
    "        self.val = val\n",
    "        self.next = next\n",
    "\n",
    "    def __str__(self):\n",
    "        return str(self.val)    \n",
    "    "
   ]
  },
  {
   "cell_type": "code",
   "execution_count": 12,
   "id": "dd943f0f",
   "metadata": {},
   "outputs": [
    {
     "name": "stdout",
     "output_type": "stream",
     "text": [
      "1\n"
     ]
    }
   ],
   "source": [
    "Head = SinglyNode(1)   \n",
    "A = SinglyNode(3)\n",
    "B = SinglyNode(4)\n",
    "C = SinglyNode(7)     \n",
    "                                                 \n",
    "Head.next = A\n",
    "A.next = B\n",
    "B.next = C        \n",
    "print(Head)\n"
   ]
  },
  {
   "cell_type": "code",
   "execution_count": 13,
   "id": "0b35ca4a",
   "metadata": {},
   "outputs": [
    {
     "name": "stdout",
     "output_type": "stream",
     "text": [
      "1\n",
      "3\n",
      "4\n",
      "7\n"
     ]
    }
   ],
   "source": [
    "#Traverse the list - O(n)\n",
    "curr = Head\n",
    "while curr :\n",
    "    print(curr)\n",
    "    curr  = curr.next\n",
    "\n"
   ]
  },
  {
   "cell_type": "code",
   "execution_count": null,
   "id": "f4c64c3b",
   "metadata": {},
   "outputs": [],
   "source": [
    "#Display Linked List - o(n)\n",
    "def display(head):\n",
    "    curr = head \n",
    "    ele = []\n",
    "    while curr : \n",
    "        ele.append(str(curr.val))\n",
    "        curr = curr.next\n",
    "    print(' -> '.join(ele))    \n",
    "\n",
    "display(Head)    "
   ]
  },
  {
   "cell_type": "code",
   "execution_count": 15,
   "id": "65d8c7ec",
   "metadata": {},
   "outputs": [
    {
     "data": {
      "text/plain": [
       "True"
      ]
     },
     "execution_count": 15,
     "metadata": {},
     "output_type": "execute_result"
    }
   ],
   "source": [
    "#Search for a val -> O(n)\n",
    "def search(head,val):\n",
    "    curr = head\n",
    "    while curr:\n",
    "        if val == curr.val:\n",
    "            return True\n",
    "        curr = curr.next\n",
    "    return False    \n",
    "\n",
    "search(Head,4)"
   ]
  },
  {
   "cell_type": "code",
   "execution_count": 16,
   "id": "183d0a6b",
   "metadata": {},
   "outputs": [],
   "source": [
    "# Doubly Linked List\n",
    "class DoublyNode:\n",
    "    def __init__(self,val,next=None,prev=None):\n",
    "        self.val = val\n",
    "        self.next = next\n",
    "        self.prev = prev\n",
    "    def __str__(self):\n",
    "        return str(self.val)    "
   ]
  },
  {
   "cell_type": "code",
   "execution_count": 17,
   "id": "d9849555",
   "metadata": {},
   "outputs": [],
   "source": [
    "head = tail = DoublyNode(1)\n"
   ]
  },
  {
   "cell_type": "code",
   "execution_count": 18,
   "id": "21ffe391",
   "metadata": {},
   "outputs": [
    {
     "name": "stdout",
     "output_type": "stream",
     "text": [
      "1\n"
     ]
    }
   ],
   "source": [
    "print(head)"
   ]
  },
  {
   "cell_type": "code",
   "execution_count": 19,
   "id": "85db0bb1",
   "metadata": {},
   "outputs": [],
   "source": [
    "#display -o(n)\n",
    "def display(head):\n",
    "    curr =head \n",
    "    elements = []\n",
    "    while curr:\n",
    "        elements.append(str(curr.val))\n",
    "        curr = curr.next\n",
    "    print(' <-> '.join(elements))    \n"
   ]
  },
  {
   "cell_type": "code",
   "execution_count": 20,
   "id": "69f6468e",
   "metadata": {},
   "outputs": [
    {
     "name": "stdout",
     "output_type": "stream",
     "text": [
      "3 <-> 1\n"
     ]
    }
   ],
   "source": [
    "#Insert on the begining  - o(1)\n",
    "def insert_at_begining(head,tail,val):\n",
    "    new_node = DoublyNode(val,next=head)\n",
    "    head.prev = new_node\n",
    "\n",
    "    return new_node,tail\n",
    "\n",
    "head, tail = insert_at_begining(head,tail,3)\n",
    "display(head)"
   ]
  },
  {
   "cell_type": "code",
   "execution_count": 21,
   "id": "8154c6ab",
   "metadata": {},
   "outputs": [
    {
     "name": "stdout",
     "output_type": "stream",
     "text": [
      "3 <-> 1 <-> 3\n"
     ]
    }
   ],
   "source": [
    "#Insert on the end - o(1)\n",
    "def insert_at_begining(head,tail,val):\n",
    "    new_node = DoublyNode(val,prev=tail)\n",
    "    tail.next = new_node\n",
    "\n",
    "    return head, new_node\n",
    "\n",
    "head, tail = insert_at_begining(head,tail,3)\n",
    "display(head)"
   ]
  }
 ],
 "metadata": {
  "kernelspec": {
   "display_name": "base",
   "language": "python",
   "name": "python3"
  },
  "language_info": {
   "codemirror_mode": {
    "name": "ipython",
    "version": 3
   },
   "file_extension": ".py",
   "mimetype": "text/x-python",
   "name": "python",
   "nbconvert_exporter": "python",
   "pygments_lexer": "ipython3",
   "version": "3.12.7"
  }
 },
 "nbformat": 4,
 "nbformat_minor": 5
}
