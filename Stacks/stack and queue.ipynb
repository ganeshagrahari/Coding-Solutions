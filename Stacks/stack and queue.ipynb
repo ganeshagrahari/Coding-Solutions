{
 "cells": [
  {
   "cell_type": "code",
   "execution_count": 9,
   "id": "9f232e1f",
   "metadata": {},
   "outputs": [
    {
     "name": "stdout",
     "output_type": "stream",
     "text": [
      "[]\n"
     ]
    }
   ],
   "source": [
    "#stack -- Last in first out policy\n",
    "stk = []\n",
    "print(stk)"
   ]
  },
  {
   "cell_type": "code",
   "execution_count": 10,
   "id": "a88b471c",
   "metadata": {},
   "outputs": [],
   "source": [
    "#Append to the top of stack\n",
    "stk.append(5)"
   ]
  },
  {
   "cell_type": "code",
   "execution_count": 11,
   "id": "c690d2c4",
   "metadata": {},
   "outputs": [
    {
     "data": {
      "text/plain": [
       "[5, 4, 3]"
      ]
     },
     "execution_count": 11,
     "metadata": {},
     "output_type": "execute_result"
    }
   ],
   "source": [
    "stk.append(4)\n",
    "stk.append(3)\n",
    "\n",
    "stk"
   ]
  },
  {
   "cell_type": "code",
   "execution_count": 12,
   "id": "a95404ff",
   "metadata": {},
   "outputs": [
    {
     "name": "stdout",
     "output_type": "stream",
     "text": [
      "3\n",
      "[5, 4]\n"
     ]
    }
   ],
   "source": [
    "#pop from the stack\n",
    "x = stk.pop()\n",
    "\n",
    "print(x)\n",
    "print(stk)"
   ]
  },
  {
   "cell_type": "code",
   "execution_count": 13,
   "id": "8c501fa3",
   "metadata": {},
   "outputs": [
    {
     "name": "stdout",
     "output_type": "stream",
     "text": [
      "4\n"
     ]
    }
   ],
   "source": [
    "#Ask on the top \n",
    "print(stk[-1])"
   ]
  },
  {
   "cell_type": "code",
   "execution_count": 14,
   "id": "f300654c",
   "metadata": {},
   "outputs": [
    {
     "name": "stdout",
     "output_type": "stream",
     "text": [
      "True\n"
     ]
    }
   ],
   "source": [
    "#Ask if somthing is in the \n",
    "if stk :\n",
    "    print(True)\n",
    "else:\n",
    "    print(False)    \n"
   ]
  },
  {
   "cell_type": "code",
   "execution_count": 15,
   "id": "280744d6",
   "metadata": {},
   "outputs": [
    {
     "name": "stdout",
     "output_type": "stream",
     "text": [
      "deque([])\n"
     ]
    }
   ],
   "source": [
    "#Queues - FIFO\n",
    "from collections import deque\n",
    "q = deque()\n",
    "print(q)"
   ]
  },
  {
   "cell_type": "code",
   "execution_count": 16,
   "id": "ba200e9e",
   "metadata": {},
   "outputs": [
    {
     "data": {
      "text/plain": [
       "deque([5, 6])"
      ]
     },
     "execution_count": 16,
     "metadata": {},
     "output_type": "execute_result"
    }
   ],
   "source": [
    "# Enqueue -  Addding element to the right side  - O(1)\n",
    "q.append(5)\n",
    "q.append(6)\n",
    "q"
   ]
  },
  {
   "cell_type": "code",
   "execution_count": 17,
   "id": "b6d4e4a6",
   "metadata": {},
   "outputs": [
    {
     "data": {
      "text/plain": [
       "5"
      ]
     },
     "execution_count": 17,
     "metadata": {},
     "output_type": "execute_result"
    }
   ],
   "source": [
    "#Deqeue (pop left )\n",
    "q.popleft()"
   ]
  },
  {
   "cell_type": "code",
   "execution_count": 18,
   "id": "0ddcdbaf",
   "metadata": {},
   "outputs": [
    {
     "data": {
      "text/plain": [
       "deque([6])"
      ]
     },
     "execution_count": 18,
     "metadata": {},
     "output_type": "execute_result"
    }
   ],
   "source": [
    "q"
   ]
  },
  {
   "cell_type": "code",
   "execution_count": 19,
   "id": "a80cebd1",
   "metadata": {},
   "outputs": [
    {
     "data": {
      "text/plain": [
       "6"
      ]
     },
     "execution_count": 19,
     "metadata": {},
     "output_type": "execute_result"
    }
   ],
   "source": [
    "#peek from left side here \n",
    "q[0]"
   ]
  },
  {
   "cell_type": "code",
   "execution_count": 21,
   "id": "ff16c286",
   "metadata": {},
   "outputs": [
    {
     "data": {
      "text/plain": [
       "6"
      ]
     },
     "execution_count": 21,
     "metadata": {},
     "output_type": "execute_result"
    }
   ],
   "source": [
    "# Peek from right side -O(1)\n",
    "q[-1]"
   ]
  },
  {
   "cell_type": "code",
   "execution_count": null,
   "id": "101c69a0",
   "metadata": {},
   "outputs": [],
   "source": []
  }
 ],
 "metadata": {
  "kernelspec": {
   "display_name": "base",
   "language": "python",
   "name": "python3"
  },
  "language_info": {
   "codemirror_mode": {
    "name": "ipython",
    "version": 3
   },
   "file_extension": ".py",
   "mimetype": "text/x-python",
   "name": "python",
   "nbconvert_exporter": "python",
   "pygments_lexer": "ipython3",
   "version": "3.12.7"
  }
 },
 "nbformat": 4,
 "nbformat_minor": 5
}
